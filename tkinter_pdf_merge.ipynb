{
 "metadata": {
  "language_info": {
   "codemirror_mode": {
    "name": "ipython",
    "version": 3
   },
   "file_extension": ".py",
   "mimetype": "text/x-python",
   "name": "python",
   "nbconvert_exporter": "python",
   "pygments_lexer": "ipython3",
   "version": "3.8.5-final"
  },
  "orig_nbformat": 2,
  "kernelspec": {
   "name": "python3",
   "display_name": "Python 3.8.5 64-bit ('base': conda)",
   "metadata": {
    "interpreter": {
     "hash": "ce9276827ed2c45e8f47abb318f67b2a61745527f7dceb4991e31ad0d87f6ddf"
    }
   }
  }
 },
 "nbformat": 4,
 "nbformat_minor": 2,
 "cells": [
  {
   "cell_type": "code",
   "execution_count": 7,
   "metadata": {},
   "outputs": [],
   "source": [
    "from tkinter import *\n",
    "from tkinter import ttk\n",
    "from tkinter import filedialog\n",
    "\n",
    "win = Tk()\n",
    "win.title(\"Pdf Merger\")\n",
    "win.geometry(\"500x600\")\n",
    "\n",
    "def get_file_path():\n",
    "    first_file_path = filedialog.askopenfilename(initialdir=\"/\", \n",
    "    title=\"Select file\",\n",
    "    filetypes=(\n",
    "        (\"PDF files\", \"*.pdf\"),\n",
    "        (\"all files\", \"*.*\")\n",
    "        )\n",
    "    )\n",
    "    return first_file_path\n",
    "\n",
    "first_pdf = ttk.Button(win, text=\"Open File\", command=get_file_path).pack() \n",
    "# button = ttk.Button(win, text=\"Open File\", command=get_file_path).pack()\n",
    "# button.grid(column=1, row=1)\n",
    "print(first_pdf)\n",
    "\n",
    "win.mainloop()"
   ]
  },
  {
   "cell_type": "code",
   "execution_count": null,
   "metadata": {},
   "outputs": [],
   "source": []
  }
 ]
}